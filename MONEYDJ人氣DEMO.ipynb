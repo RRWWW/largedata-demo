{
 "cells": [
  {
   "cell_type": "code",
   "execution_count": 9,
   "metadata": {
    "collapsed": false
   },
   "outputs": [
    {
     "name": "stdout",
     "output_type": "stream",
     "text": [
      "{\"counts\":[{\"count\":716,\"guid\":\"7b5c4457-1289-410f-abdd-1eff606437e6\",\"svc\":\"NS\"}]}\n"
     ]
    }
   ],
   "source": [
    "import requests\n",
    "from bs4 import BeautifulSoup\n",
    "url = \"http://www.moneydj.com/InfoSvc/apis/vc\"\n",
    "payload = '{\"counts\": [{\"svc\": \"NS\", \"guid\": \"7b5c4457-1289-410f-abdd-1eff606437e6\"}]}'  #要自己加\"\"\n",
    "head = {'Content-Type':'application/json'}\n",
    "res = requests.post(url, data = payload, headers = head)\n",
    "type(res)\n",
    "print res.text"
   ]
  },
  {
   "cell_type": "code",
   "execution_count": 15,
   "metadata": {
    "collapsed": false
   },
   "outputs": [
    {
     "name": "stdout",
     "output_type": "stream",
     "text": [
      "[u'{\"counts\"', u'[{\"count\"', u'716,\"guid\"', u'\"7b5c4457-1289-410f-abdd-1eff606437e6\",\"svc\"', u'\"NS\"}]}']\n"
     ]
    }
   ],
   "source": [
    "print res.text.split(':')"
   ]
  },
  {
   "cell_type": "code",
   "execution_count": 13,
   "metadata": {
    "collapsed": false
   },
   "outputs": [
    {
     "name": "stdout",
     "output_type": "stream",
     "text": [
      "716,\"guid\"\n"
     ]
    }
   ],
   "source": [
    "print res.text.split(':')[2]"
   ]
  }
 ],
 "metadata": {
  "kernelspec": {
   "display_name": "Python 2",
   "language": "python",
   "name": "python2"
  },
  "language_info": {
   "codemirror_mode": {
    "name": "ipython",
    "version": 2
   },
   "file_extension": ".py",
   "mimetype": "text/x-python",
   "name": "python",
   "nbconvert_exporter": "python",
   "pygments_lexer": "ipython2",
   "version": "2.7.11"
  }
 },
 "nbformat": 4,
 "nbformat_minor": 0
}
