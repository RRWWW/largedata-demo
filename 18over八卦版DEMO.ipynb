{
 "cells": [
  {
   "cell_type": "code",
   "execution_count": 2,
   "metadata": {
    "collapsed": true
   },
   "outputs": [],
   "source": [
    "import requests\n",
    "from bs4 import BeautifulSoup"
   ]
  },
  {
   "cell_type": "code",
   "execution_count": 27,
   "metadata": {
    "collapsed": false
   },
   "outputs": [
    {
     "name": "stdout",
     "output_type": "stream",
     "text": [
      "  2/26 mylove2256 \n",
      "[問卦] 路走偏了會想到什麼\n",
      "\n",
      " 2/16 seabox \n",
      "[公告] 八卦板板規(2016.02.16)\n",
      "\n",
      " 2/23 blueblowball \n",
      "[協尋] 2/21下午2：10左右八德區東勇街行車紀錄器\n",
      "\n",
      " 2/25 huangfong \n",
      "[協尋]2/24早730,小東路北門路口車禍影片\n",
      "\n",
      " 2/25 aaaaa51131 \n",
      "急 拜託大家幫幫忙 拜託\n",
      "\n",
      " 2/01 kasion \n",
      "[公告] 二月置底閒聊區 o(>﹏<)o\n",
      "\n"
     ]
    },
    {
     "name": "stderr",
     "output_type": "stream",
     "text": [
      "E:\\Anaconda2\\lib\\site-packages\\requests\\packages\\urllib3\\connectionpool.py:791: InsecureRequestWarning: Unverified HTTPS request is being made. Adding certificate verification is strongly advised. See: https://urllib3.readthedocs.org/en/latest/security.html\n",
      "  InsecureRequestWarning)\n",
      "E:\\Anaconda2\\lib\\site-packages\\requests\\packages\\urllib3\\connectionpool.py:791: InsecureRequestWarning: Unverified HTTPS request is being made. Adding certificate verification is strongly advised. See: https://urllib3.readthedocs.org/en/latest/security.html\n",
      "  InsecureRequestWarning)\n",
      "E:\\Anaconda2\\lib\\site-packages\\requests\\packages\\urllib3\\connectionpool.py:791: InsecureRequestWarning: Unverified HTTPS request is being made. Adding certificate verification is strongly advised. See: https://urllib3.readthedocs.org/en/latest/security.html\n",
      "  InsecureRequestWarning)\n"
     ]
    }
   ],
   "source": [
    "payload= {\n",
    "'from':'/bbs/Gossiping/index.html',\n",
    "'yes':'yes'\n",
    "}\n",
    "rs = requests.session()\n",
    "res = rs.post(\"https://www.ptt.cc/ask/over18\", verify = False, data = payload)\n",
    "res2 = rs.get('https://www.ptt.cc/bbs/Gossiping/index.html', verify = False)\n",
    "soup = BeautifulSoup(res2.text)\n",
    "for entry in soup.select('.r-ent'):\n",
    "    print entry.select('.date')[0].text, entry.select('.author')[0].text, entry.select('.title')[0].text"
   ]
  },
  {
   "cell_type": "code",
   "execution_count": null,
   "metadata": {
    "collapsed": true
   },
   "outputs": [],
   "source": []
  },
  {
   "cell_type": "code",
   "execution_count": null,
   "metadata": {
    "collapsed": true
   },
   "outputs": [],
   "source": []
  },
  {
   "cell_type": "code",
   "execution_count": null,
   "metadata": {
    "collapsed": true
   },
   "outputs": [],
   "source": []
  }
 ],
 "metadata": {
  "kernelspec": {
   "display_name": "Python 2",
   "language": "python",
   "name": "python2"
  },
  "language_info": {
   "codemirror_mode": {
    "name": "ipython",
    "version": 2
   },
   "file_extension": ".py",
   "mimetype": "text/x-python",
   "name": "python",
   "nbconvert_exporter": "python",
   "pygments_lexer": "ipython2",
   "version": "2.7.11"
  }
 },
 "nbformat": 4,
 "nbformat_minor": 0
}
