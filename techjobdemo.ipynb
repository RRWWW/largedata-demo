{
 "cells": [
  {
   "cell_type": "code",
   "execution_count": 2,
   "metadata": {
    "collapsed": true
   },
   "outputs": [],
   "source": [
    "import requests\n",
    "from bs4 import BeautifulSoup as bs\n",
    "import os"
   ]
  },
  {
   "cell_type": "code",
   "execution_count": 3,
   "metadata": {
    "collapsed": true
   },
   "outputs": [],
   "source": []
  },
  {
   "cell_type": "code",
   "execution_count": 6,
   "metadata": {
    "collapsed": false
   },
   "outputs": [],
   "source": [
    "with open('job_list.txt' , 'w') as f:\n",
    "    url = 'https://www.ptt.cc/bbs/Tech_Job/index2113.html'\n",
    "    res = requests.get(url)\n",
    "    soup = bs(res.text)\n",
    "    for urls in soup.select('.title'):\n",
    "        try:\n",
    "            headurl = 'https://www.ptt.cc' + urls.select('a')[0]['href']\n",
    "        except:\n",
    "            havenDelete = '0'\n",
    "        f.write(headurl + '\\n')   "
   ]
  },
  {
   "cell_type": "code",
   "execution_count": 16,
   "metadata": {
    "collapsed": false
   },
   "outputs": [],
   "source": [
    "with open('job_list.txt', 'r') as f:\n",
    "    for url in f.readlines():\n",
    "        rearstr = url.strip().split('.')[3]\n",
    "        filename = 'Tech_Job/{}.txt'.format(rearstr)\n",
    "        #print filename\n",
    "        with open(filename, 'w') as f2:\n",
    "            res = requests.get(url.strip())\n",
    "            f2.write(res.text.encode('utf-8'))     "
   ]
  },
  {
   "cell_type": "code",
   "execution_count": null,
   "metadata": {
    "collapsed": false
   },
   "outputs": [],
   "source": []
  }
 ],
 "metadata": {
  "kernelspec": {
   "display_name": "Python 2",
   "language": "python",
   "name": "python2"
  },
  "language_info": {
   "codemirror_mode": {
    "name": "ipython",
    "version": 2
   },
   "file_extension": ".py",
   "mimetype": "text/x-python",
   "name": "python",
   "nbconvert_exporter": "python",
   "pygments_lexer": "ipython2",
   "version": "2.7.11"
  }
 },
 "nbformat": 4,
 "nbformat_minor": 0
}
