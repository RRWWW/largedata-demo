{
 "cells": [
  {
   "cell_type": "code",
   "execution_count": 2,
   "metadata": {
    "collapsed": true
   },
   "outputs": [],
   "source": [
    "import requests"
   ]
  },
  {
   "cell_type": "code",
   "execution_count": 6,
   "metadata": {
    "collapsed": false
   },
   "outputs": [
    {
     "name": "stdout",
     "output_type": "stream",
     "text": [
      "<closed file '/Users/COSH/Desktop/ETL/saber.jpg', mode 'wb' at 0x0000000003F5FDB0>\n"
     ]
    }
   ],
   "source": [
    "import shutil\n",
    "url = 'http://special.goodsmile.info/saber-alter_huke-ver/download/PC/saber_alter_huke_1920.jpg'\n",
    "res = requests.get(url, stream=True)\n",
    "f = open('/Users/COSH/Desktop/ETL/saber.jpg','wb')  #路徑不能有中文\n",
    "res.raw.decode_content = True\n",
    "shutil.copyfileobj(res.raw, f)      \n",
    "f.close()\n",
    "print f"
   ]
  }
 ],
 "metadata": {
  "kernelspec": {
   "display_name": "Python 2",
   "language": "python",
   "name": "python2"
  },
  "language_info": {
   "codemirror_mode": {
    "name": "ipython",
    "version": 2
   },
   "file_extension": ".py",
   "mimetype": "text/x-python",
   "name": "python",
   "nbconvert_exporter": "python",
   "pygments_lexer": "ipython2",
   "version": "2.7.11"
  }
 },
 "nbformat": 4,
 "nbformat_minor": 0
}
